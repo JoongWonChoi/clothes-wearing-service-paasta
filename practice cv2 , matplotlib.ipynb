{
 "cells": [
  {
   "cell_type": "code",
   "execution_count": 1,
   "id": "9facdeb7",
   "metadata": {},
   "outputs": [],
   "source": [
    "import matplotlib.pyplot as plt\n",
    "import cv2\n",
    "import os\n",
    "from PIL import Image\n",
    "import numpy as np"
   ]
  },
  {
   "cell_type": "code",
   "execution_count": null,
   "id": "14167605",
   "metadata": {},
   "outputs": [],
   "source": []
  },
  {
   "cell_type": "code",
   "execution_count": null,
   "id": "dd1ac9f3",
   "metadata": {},
   "outputs": [],
   "source": [
    "plt.plot([1,2,3,10],[1,3,6,7],'ro')"
   ]
  },
  {
   "cell_type": "code",
   "execution_count": null,
   "id": "07a96c3b",
   "metadata": {},
   "outputs": [],
   "source": [
    "plt.axis([0,6,0,20])\n",
    "plt.plot([1,3,5,6],[3,6,9,20],'c')"
   ]
  },
  {
   "cell_type": "code",
   "execution_count": null,
   "id": "b661395c",
   "metadata": {},
   "outputs": [],
   "source": [
    "plt.ylabel('y-label')"
   ]
  },
  {
   "cell_type": "code",
   "execution_count": null,
   "id": "d5926b84",
   "metadata": {},
   "outputs": [],
   "source": [
    "img = cv2.imread('anaconda3/images/a.jpg', cv2.IMREAD_ANYCOLOR)\n",
    "cv2.imshow(\"TEST\",img)\n",
    "cv2.waitKey()\n",
    "cv2.destroyAllWindows()"
   ]
  },
  {
   "cell_type": "code",
   "execution_count": null,
   "id": "792da88d",
   "metadata": {},
   "outputs": [],
   "source": [
    "path = 'anaconda3/images/로고2.jpg'"
   ]
  },
  {
   "cell_type": "code",
   "execution_count": null,
   "id": "2dffd01c",
   "metadata": {},
   "outputs": [],
   "source": [
    "image_pil = Image.open(path)"
   ]
  },
  {
   "cell_type": "code",
   "execution_count": null,
   "id": "dae6b2c3",
   "metadata": {},
   "outputs": [],
   "source": [
    "image = np.array(image_pil)"
   ]
  },
  {
   "cell_type": "code",
   "execution_count": null,
   "id": "1da6fce6",
   "metadata": {},
   "outputs": [],
   "source": [
    "image.shape"
   ]
  },
  {
   "cell_type": "code",
   "execution_count": null,
   "id": "7cb8a80f",
   "metadata": {},
   "outputs": [],
   "source": [
    "np.min(image), np.max(image)"
   ]
  },
  {
   "cell_type": "code",
   "execution_count": null,
   "id": "2bf2726e",
   "metadata": {},
   "outputs": [],
   "source": [
    "plt.hist(image.ravel(),256,[0,256])"
   ]
  },
  {
   "cell_type": "code",
   "execution_count": null,
   "id": "7b0e4b6d",
   "metadata": {},
   "outputs": [],
   "source": [
    "plt.show()"
   ]
  },
  {
   "cell_type": "code",
   "execution_count": null,
   "id": "479e2a6b",
   "metadata": {},
   "outputs": [],
   "source": []
  }
 ],
 "metadata": {
  "kernelspec": {
   "display_name": "Python 3",
   "language": "python",
   "name": "python3"
  },
  "language_info": {
   "codemirror_mode": {
    "name": "ipython",
    "version": 3
   },
   "file_extension": ".py",
   "mimetype": "text/x-python",
   "name": "python",
   "nbconvert_exporter": "python",
   "pygments_lexer": "ipython3",
   "version": "3.8.8"
  }
 },
 "nbformat": 4,
 "nbformat_minor": 5
}
